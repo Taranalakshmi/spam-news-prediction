{
 "cells": [
  {
   "cell_type": "code",
   "execution_count": 1,
   "id": "718e4919",
   "metadata": {},
   "outputs": [],
   "source": [
    "import numpy as np\n",
    "import pandas as pd\n",
    "True_news=pd.read_csv('True.csv')\n",
    "Fake_news=pd.read_csv('Fake.csv')"
   ]
  },
  {
   "cell_type": "markdown",
   "id": "f4006902",
   "metadata": {},
   "source": [
    "#to recoginize which is true and fake we need to add a label\n",
    "\n"
   ]
  },
  {
   "cell_type": "code",
   "execution_count": 2,
   "id": "e81281a1",
   "metadata": {},
   "outputs": [],
   "source": [
    "True_news['label']=0\n",
    "Fake_news['label']=1\n",
    "dataset1=True_news[['text','label']]\n",
    "dataset2=Fake_news[['text','label']]\n",
    "dataset=pd.concat([dataset1,dataset2])\n"
   ]
  },
  {
   "cell_type": "code",
   "execution_count": 3,
   "id": "208462bb",
   "metadata": {},
   "outputs": [
    {
     "data": {
      "text/html": [
       "<div>\n",
       "<style scoped>\n",
       "    .dataframe tbody tr th:only-of-type {\n",
       "        vertical-align: middle;\n",
       "    }\n",
       "\n",
       "    .dataframe tbody tr th {\n",
       "        vertical-align: top;\n",
       "    }\n",
       "\n",
       "    .dataframe thead th {\n",
       "        text-align: right;\n",
       "    }\n",
       "</style>\n",
       "<table border=\"1\" class=\"dataframe\">\n",
       "  <thead>\n",
       "    <tr style=\"text-align: right;\">\n",
       "      <th></th>\n",
       "      <th>text</th>\n",
       "      <th>label</th>\n",
       "    </tr>\n",
       "  </thead>\n",
       "  <tbody>\n",
       "    <tr>\n",
       "      <th>0</th>\n",
       "      <td>WASHINGTON (Reuters) - The head of a conservat...</td>\n",
       "      <td>0</td>\n",
       "    </tr>\n",
       "    <tr>\n",
       "      <th>1</th>\n",
       "      <td>WASHINGTON (Reuters) - Transgender people will...</td>\n",
       "      <td>0</td>\n",
       "    </tr>\n",
       "    <tr>\n",
       "      <th>2</th>\n",
       "      <td>WASHINGTON (Reuters) - The special counsel inv...</td>\n",
       "      <td>0</td>\n",
       "    </tr>\n",
       "    <tr>\n",
       "      <th>3</th>\n",
       "      <td>WASHINGTON (Reuters) - Trump campaign adviser ...</td>\n",
       "      <td>0</td>\n",
       "    </tr>\n",
       "    <tr>\n",
       "      <th>4</th>\n",
       "      <td>SEATTLE/WASHINGTON (Reuters) - President Donal...</td>\n",
       "      <td>0</td>\n",
       "    </tr>\n",
       "    <tr>\n",
       "      <th>...</th>\n",
       "      <td>...</td>\n",
       "      <td>...</td>\n",
       "    </tr>\n",
       "    <tr>\n",
       "      <th>23476</th>\n",
       "      <td>21st Century Wire says As 21WIRE reported earl...</td>\n",
       "      <td>1</td>\n",
       "    </tr>\n",
       "    <tr>\n",
       "      <th>23477</th>\n",
       "      <td>21st Century Wire says It s a familiar theme. ...</td>\n",
       "      <td>1</td>\n",
       "    </tr>\n",
       "    <tr>\n",
       "      <th>23478</th>\n",
       "      <td>Patrick Henningsen  21st Century WireRemember ...</td>\n",
       "      <td>1</td>\n",
       "    </tr>\n",
       "    <tr>\n",
       "      <th>23479</th>\n",
       "      <td>21st Century Wire says Al Jazeera America will...</td>\n",
       "      <td>1</td>\n",
       "    </tr>\n",
       "    <tr>\n",
       "      <th>23480</th>\n",
       "      <td>21st Century Wire says As 21WIRE predicted in ...</td>\n",
       "      <td>1</td>\n",
       "    </tr>\n",
       "  </tbody>\n",
       "</table>\n",
       "<p>44898 rows × 2 columns</p>\n",
       "</div>"
      ],
      "text/plain": [
       "                                                    text  label\n",
       "0      WASHINGTON (Reuters) - The head of a conservat...      0\n",
       "1      WASHINGTON (Reuters) - Transgender people will...      0\n",
       "2      WASHINGTON (Reuters) - The special counsel inv...      0\n",
       "3      WASHINGTON (Reuters) - Trump campaign adviser ...      0\n",
       "4      SEATTLE/WASHINGTON (Reuters) - President Donal...      0\n",
       "...                                                  ...    ...\n",
       "23476  21st Century Wire says As 21WIRE reported earl...      1\n",
       "23477  21st Century Wire says It s a familiar theme. ...      1\n",
       "23478  Patrick Henningsen  21st Century WireRemember ...      1\n",
       "23479  21st Century Wire says Al Jazeera America will...      1\n",
       "23480  21st Century Wire says As 21WIRE predicted in ...      1\n",
       "\n",
       "[44898 rows x 2 columns]"
      ]
     },
     "execution_count": 3,
     "metadata": {},
     "output_type": "execute_result"
    }
   ],
   "source": [
    "dataset1\n",
    "dataset2\n",
    "dataset"
   ]
  },
  {
   "cell_type": "markdown",
   "id": "50a3eccb",
   "metadata": {},
   "source": [
    "#check for null value"
   ]
  },
  {
   "cell_type": "code",
   "execution_count": 4,
   "id": "d37fc710",
   "metadata": {},
   "outputs": [
    {
     "data": {
      "text/plain": [
       "text     0\n",
       "label    0\n",
       "dtype: int64"
      ]
     },
     "execution_count": 4,
     "metadata": {},
     "output_type": "execute_result"
    }
   ],
   "source": [
    "dataset.isnull().sum()"
   ]
  },
  {
   "cell_type": "markdown",
   "id": "0692a8ed",
   "metadata": {},
   "source": [
    "#shuffle/resampled for being non biased"
   ]
  },
  {
   "cell_type": "code",
   "execution_count": 5,
   "id": "65ed3cb3",
   "metadata": {},
   "outputs": [
    {
     "data": {
      "text/html": [
       "<div>\n",
       "<style scoped>\n",
       "    .dataframe tbody tr th:only-of-type {\n",
       "        vertical-align: middle;\n",
       "    }\n",
       "\n",
       "    .dataframe tbody tr th {\n",
       "        vertical-align: top;\n",
       "    }\n",
       "\n",
       "    .dataframe thead th {\n",
       "        text-align: right;\n",
       "    }\n",
       "</style>\n",
       "<table border=\"1\" class=\"dataframe\">\n",
       "  <thead>\n",
       "    <tr style=\"text-align: right;\">\n",
       "      <th></th>\n",
       "      <th>text</th>\n",
       "      <th>label</th>\n",
       "    </tr>\n",
       "  </thead>\n",
       "  <tbody>\n",
       "    <tr>\n",
       "      <th>11016</th>\n",
       "      <td>DES MOINES (Reuters) - Texas Senator Ted Cruz ...</td>\n",
       "      <td>0</td>\n",
       "    </tr>\n",
       "    <tr>\n",
       "      <th>13271</th>\n",
       "      <td>LONDON (Reuters) - All four members of the Bri...</td>\n",
       "      <td>0</td>\n",
       "    </tr>\n",
       "    <tr>\n",
       "      <th>5060</th>\n",
       "      <td>AUSTIN, Texas (Reuters) - A bill that would re...</td>\n",
       "      <td>0</td>\n",
       "    </tr>\n",
       "    <tr>\n",
       "      <th>13129</th>\n",
       "      <td>BERLIN (Reuters) - Germans see U.S. President ...</td>\n",
       "      <td>0</td>\n",
       "    </tr>\n",
       "    <tr>\n",
       "      <th>15092</th>\n",
       "      <td>Here s the fake black guy, Shaun King weighing...</td>\n",
       "      <td>1</td>\n",
       "    </tr>\n",
       "    <tr>\n",
       "      <th>...</th>\n",
       "      <td>...</td>\n",
       "      <td>...</td>\n",
       "    </tr>\n",
       "    <tr>\n",
       "      <th>19571</th>\n",
       "      <td>THE HAGUE (Reuters) - The Dutch government has...</td>\n",
       "      <td>0</td>\n",
       "    </tr>\n",
       "    <tr>\n",
       "      <th>734</th>\n",
       "      <td>Trump apparently will continue the feud he sta...</td>\n",
       "      <td>1</td>\n",
       "    </tr>\n",
       "    <tr>\n",
       "      <th>19161</th>\n",
       "      <td></td>\n",
       "      <td>1</td>\n",
       "    </tr>\n",
       "    <tr>\n",
       "      <th>5622</th>\n",
       "      <td>WASHINGTON (Reuters) - Former and current empl...</td>\n",
       "      <td>0</td>\n",
       "    </tr>\n",
       "    <tr>\n",
       "      <th>13831</th>\n",
       "      <td>MOSCOW (Reuters) - Six Russian Tu-22M3 long-ra...</td>\n",
       "      <td>0</td>\n",
       "    </tr>\n",
       "  </tbody>\n",
       "</table>\n",
       "<p>44898 rows × 2 columns</p>\n",
       "</div>"
      ],
      "text/plain": [
       "                                                    text  label\n",
       "11016  DES MOINES (Reuters) - Texas Senator Ted Cruz ...      0\n",
       "13271  LONDON (Reuters) - All four members of the Bri...      0\n",
       "5060   AUSTIN, Texas (Reuters) - A bill that would re...      0\n",
       "13129  BERLIN (Reuters) - Germans see U.S. President ...      0\n",
       "15092  Here s the fake black guy, Shaun King weighing...      1\n",
       "...                                                  ...    ...\n",
       "19571  THE HAGUE (Reuters) - The Dutch government has...      0\n",
       "734    Trump apparently will continue the feud he sta...      1\n",
       "19161                                                         1\n",
       "5622   WASHINGTON (Reuters) - Former and current empl...      0\n",
       "13831  MOSCOW (Reuters) - Six Russian Tu-22M3 long-ra...      0\n",
       "\n",
       "[44898 rows x 2 columns]"
      ]
     },
     "execution_count": 5,
     "metadata": {},
     "output_type": "execute_result"
    }
   ],
   "source": [
    "dataset=dataset.sample(frac=1)\n",
    "dataset"
   ]
  },
  {
   "cell_type": "markdown",
   "id": "bec83745",
   "metadata": {},
   "source": [
    "#NATURAL LANGUAGE PROCESSING"
   ]
  },
  {
   "cell_type": "code",
   "execution_count": 6,
   "id": "6631709e",
   "metadata": {},
   "outputs": [
    {
     "name": "stdout",
     "output_type": "stream",
     "text": [
      "Requirement already satisfied: nltk in c:\\users\\taran\\anaconda3\\lib\\site-packages (3.7)\n",
      "Requirement already satisfied: click in c:\\users\\taran\\anaconda3\\lib\\site-packages (from nltk) (8.0.4)\n",
      "Requirement already satisfied: joblib in c:\\users\\taran\\anaconda3\\lib\\site-packages (from nltk) (1.2.0)\n",
      "Requirement already satisfied: regex>=2021.8.3 in c:\\users\\taran\\anaconda3\\lib\\site-packages (from nltk) (2022.7.9)\n",
      "Requirement already satisfied: tqdm in c:\\users\\taran\\anaconda3\\lib\\site-packages (from nltk) (4.65.0)\n",
      "Requirement already satisfied: colorama in c:\\users\\taran\\anaconda3\\lib\\site-packages (from click->nltk) (0.4.6)\n",
      "Note: you may need to restart the kernel to use updated packages.\n"
     ]
    }
   ],
   "source": [
    "pip install nltk"
   ]
  },
  {
   "cell_type": "code",
   "execution_count": 7,
   "id": "de07da54",
   "metadata": {},
   "outputs": [],
   "source": [
    "import nltk\n",
    "import re\n",
    "from nltk.corpus import stopwords\n",
    "from nltk.stem import WordNetLemmatizer "
   ]
  },
  {
   "cell_type": "code",
   "execution_count": 8,
   "id": "ccd7f34f",
   "metadata": {},
   "outputs": [
    {
     "name": "stderr",
     "output_type": "stream",
     "text": [
      "[nltk_data] Downloading package wordnet to\n",
      "[nltk_data]     C:\\Users\\taran\\AppData\\Roaming\\nltk_data...\n",
      "[nltk_data]   Package wordnet is already up-to-date!\n"
     ]
    },
    {
     "data": {
      "text/plain": [
       "True"
      ]
     },
     "execution_count": 8,
     "metadata": {},
     "output_type": "execute_result"
    }
   ],
   "source": [
    "ps=WordNetLemmatizer()\n",
    "stopwords=stopwords.words('english')\n",
    "nltk.download('wordnet')"
   ]
  },
  {
   "cell_type": "code",
   "execution_count": 9,
   "id": "3841256e",
   "metadata": {},
   "outputs": [
    {
     "name": "stderr",
     "output_type": "stream",
     "text": [
      "[nltk_data] Downloading package wordnet to\n",
      "[nltk_data]     C:\\Users\\taran\\AppData\\Roaming\\nltk_data...\n",
      "[nltk_data]   Package wordnet is already up-to-date!\n"
     ]
    }
   ],
   "source": [
    "nltk.download('wordnet')\n",
    "from nltk.stem import WordNetLemmatizer"
   ]
  },
  {
   "cell_type": "code",
   "execution_count": 10,
   "id": "7c9a3dd1",
   "metadata": {
    "scrolled": true
   },
   "outputs": [
    {
     "name": "stderr",
     "output_type": "stream",
     "text": [
      "[nltk_data] Downloading package stopwords to\n",
      "[nltk_data]     C:\\Users\\taran\\AppData\\Roaming\\nltk_data...\n",
      "[nltk_data]   Package stopwords is already up-to-date!\n"
     ]
    },
    {
     "data": {
      "text/plain": [
       "True"
      ]
     },
     "execution_count": 10,
     "metadata": {},
     "output_type": "execute_result"
    }
   ],
   "source": [
    "nltk.download('stopwords')\n"
   ]
  },
  {
   "cell_type": "markdown",
   "id": "1c591998",
   "metadata": {},
   "source": [
    "# CLEANING\n"
   ]
  },
  {
   "cell_type": "code",
   "execution_count": 11,
   "id": "cbbc2e73",
   "metadata": {},
   "outputs": [],
   "source": [
    "def clean_row(row):\n",
    "    row=row.lower()\n",
    "    row=re.sub('[^a-zA-Z]',' ',row)\n",
    "    token=row.split()\n",
    "    news=[ps.lemmatize(word) for word in token if not word in stopwords]\n",
    "    cleanned_news=' '.join(news)\n",
    "    return cleanned_news"
   ]
  },
  {
   "cell_type": "code",
   "execution_count": 12,
   "id": "a0c44768",
   "metadata": {},
   "outputs": [
    {
     "data": {
      "text/plain": [
       "11016    DES MOINES (Reuters) - Texas Senator Ted Cruz ...\n",
       "13271    LONDON (Reuters) - All four members of the Bri...\n",
       "5060     AUSTIN, Texas (Reuters) - A bill that would re...\n",
       "13129    BERLIN (Reuters) - Germans see U.S. President ...\n",
       "15092    Here s the fake black guy, Shaun King weighing...\n",
       "                               ...                        \n",
       "19571    THE HAGUE (Reuters) - The Dutch government has...\n",
       "734      Trump apparently will continue the feud he sta...\n",
       "19161                                                     \n",
       "5622     WASHINGTON (Reuters) - Former and current empl...\n",
       "13831    MOSCOW (Reuters) - Six Russian Tu-22M3 long-ra...\n",
       "Name: text, Length: 44898, dtype: object"
      ]
     },
     "execution_count": 12,
     "metadata": {},
     "output_type": "execute_result"
    }
   ],
   "source": [
    "dataset['text']"
   ]
  },
  {
   "cell_type": "code",
   "execution_count": 13,
   "id": "89197d21",
   "metadata": {},
   "outputs": [],
   "source": [
    "dataset['text']=dataset['text'].apply(lambda x: clean_row(x))"
   ]
  },
  {
   "cell_type": "code",
   "execution_count": 14,
   "id": "19620ba1",
   "metadata": {},
   "outputs": [
    {
     "name": "stderr",
     "output_type": "stream",
     "text": [
      "[nltk_data] Downloading package omw-1.4 to\n",
      "[nltk_data]     C:\\Users\\taran\\AppData\\Roaming\\nltk_data...\n",
      "[nltk_data]   Package omw-1.4 is already up-to-date!\n"
     ]
    },
    {
     "data": {
      "text/plain": [
       "True"
      ]
     },
     "execution_count": 14,
     "metadata": {},
     "output_type": "execute_result"
    }
   ],
   "source": [
    "nltk.download('omw-1.4')"
   ]
  },
  {
   "cell_type": "code",
   "execution_count": null,
   "id": "92906d05",
   "metadata": {},
   "outputs": [],
   "source": []
  },
  {
   "cell_type": "markdown",
   "id": "9b654be4",
   "metadata": {},
   "source": [
    "# converting text to vector"
   ]
  },
  {
   "cell_type": "code",
   "execution_count": 15,
   "id": "01595092",
   "metadata": {},
   "outputs": [],
   "source": [
    "from sklearn.feature_extraction.text import TfidfVectorizer\n",
    "vectorizer=TfidfVectorizer(max_features=500,lowercase=False,ngram_range=(1,2))"
   ]
  },
  {
   "cell_type": "markdown",
   "id": "fb705b59",
   "metadata": {},
   "source": [
    "#spliting"
   ]
  },
  {
   "cell_type": "code",
   "execution_count": 16,
   "id": "dc5dc4c1",
   "metadata": {},
   "outputs": [],
   "source": [
    "x=dataset.iloc[:35000,0]\n",
    "y=dataset.iloc[:35000,1]"
   ]
  },
  {
   "cell_type": "code",
   "execution_count": 17,
   "id": "3eb2ce77",
   "metadata": {},
   "outputs": [],
   "source": [
    "from sklearn.model_selection import train_test_split\n",
    "train_data, test_data,train_label, test_label =train_test_split(x,y,test_size=0.2,random_state=0)\n"
   ]
  },
  {
   "cell_type": "code",
   "execution_count": null,
   "id": "1392c46a",
   "metadata": {},
   "outputs": [],
   "source": []
  },
  {
   "cell_type": "markdown",
   "id": "67665bf4",
   "metadata": {},
   "source": [
    "# vectorizing train data only"
   ]
  },
  {
   "cell_type": "code",
   "execution_count": 18,
   "id": "8f75f505",
   "metadata": {},
   "outputs": [],
   "source": [
    "vec_train_data=vectorizer.fit_transform(train_data)\n",
    "vec_train_data=vec_train_data.toarray()\n"
   ]
  },
  {
   "cell_type": "code",
   "execution_count": 19,
   "id": "2bf23503",
   "metadata": {},
   "outputs": [
    {
     "data": {
      "text/plain": [
       "(numpy.ndarray, (28000, 500))"
      ]
     },
     "execution_count": 19,
     "metadata": {},
     "output_type": "execute_result"
    }
   ],
   "source": [
    "type(vec_train_data),vec_train_data.shape"
   ]
  },
  {
   "cell_type": "code",
   "execution_count": 20,
   "id": "00c2295d",
   "metadata": {},
   "outputs": [],
   "source": [
    "vec_test_data=vectorizer.fit_transform(test_data)\n",
    "vec_test_data=vec_test_data.toarray()"
   ]
  },
  {
   "cell_type": "code",
   "execution_count": 21,
   "id": "f61264e0",
   "metadata": {},
   "outputs": [
    {
     "data": {
      "text/plain": [
       "(7000, 500)"
      ]
     },
     "execution_count": 21,
     "metadata": {},
     "output_type": "execute_result"
    }
   ],
   "source": [
    "\n",
    "vec_test_data.shape\n"
   ]
  },
  {
   "cell_type": "markdown",
   "id": "2acab8b5",
   "metadata": {},
   "source": [
    "# onehot encoder used"
   ]
  },
  {
   "cell_type": "code",
   "execution_count": 22,
   "id": "2019682e",
   "metadata": {},
   "outputs": [],
   "source": [
    "\n",
    "training_data=pd.DataFrame(vec_train_data,columns = vectorizer.get_feature_names_out())\n",
    "testing_data=pd.DataFrame(vec_test_data,columns = vectorizer.get_feature_names_out())"
   ]
  },
  {
   "cell_type": "code",
   "execution_count": 23,
   "id": "1771729b",
   "metadata": {},
   "outputs": [
    {
     "data": {
      "text/html": [
       "<div>\n",
       "<style scoped>\n",
       "    .dataframe tbody tr th:only-of-type {\n",
       "        vertical-align: middle;\n",
       "    }\n",
       "\n",
       "    .dataframe tbody tr th {\n",
       "        vertical-align: top;\n",
       "    }\n",
       "\n",
       "    .dataframe thead th {\n",
       "        text-align: right;\n",
       "    }\n",
       "</style>\n",
       "<table border=\"1\" class=\"dataframe\">\n",
       "  <thead>\n",
       "    <tr style=\"text-align: right;\">\n",
       "      <th></th>\n",
       "      <th>able</th>\n",
       "      <th>according</th>\n",
       "      <th>accused</th>\n",
       "      <th>across</th>\n",
       "      <th>act</th>\n",
       "      <th>action</th>\n",
       "      <th>actually</th>\n",
       "      <th>added</th>\n",
       "      <th>administration</th>\n",
       "      <th>agency</th>\n",
       "      <th>...</th>\n",
       "      <th>work</th>\n",
       "      <th>worker</th>\n",
       "      <th>working</th>\n",
       "      <th>world</th>\n",
       "      <th>would</th>\n",
       "      <th>wrote</th>\n",
       "      <th>year</th>\n",
       "      <th>year old</th>\n",
       "      <th>yet</th>\n",
       "      <th>york</th>\n",
       "    </tr>\n",
       "  </thead>\n",
       "  <tbody>\n",
       "    <tr>\n",
       "      <th>0</th>\n",
       "      <td>0.000000</td>\n",
       "      <td>0.043359</td>\n",
       "      <td>0.0</td>\n",
       "      <td>0.0</td>\n",
       "      <td>0.000000</td>\n",
       "      <td>0.000000</td>\n",
       "      <td>0.000000</td>\n",
       "      <td>0.000000</td>\n",
       "      <td>0.000000</td>\n",
       "      <td>0.0</td>\n",
       "      <td>...</td>\n",
       "      <td>0.000000</td>\n",
       "      <td>0.0</td>\n",
       "      <td>0.05527</td>\n",
       "      <td>0.000000</td>\n",
       "      <td>0.000000</td>\n",
       "      <td>0.0</td>\n",
       "      <td>0.000000</td>\n",
       "      <td>0.0</td>\n",
       "      <td>0.000000</td>\n",
       "      <td>0.053839</td>\n",
       "    </tr>\n",
       "    <tr>\n",
       "      <th>1</th>\n",
       "      <td>0.000000</td>\n",
       "      <td>0.000000</td>\n",
       "      <td>0.0</td>\n",
       "      <td>0.0</td>\n",
       "      <td>0.000000</td>\n",
       "      <td>0.000000</td>\n",
       "      <td>0.000000</td>\n",
       "      <td>0.080474</td>\n",
       "      <td>0.070553</td>\n",
       "      <td>0.0</td>\n",
       "      <td>...</td>\n",
       "      <td>0.000000</td>\n",
       "      <td>0.0</td>\n",
       "      <td>0.00000</td>\n",
       "      <td>0.000000</td>\n",
       "      <td>0.000000</td>\n",
       "      <td>0.0</td>\n",
       "      <td>0.046246</td>\n",
       "      <td>0.0</td>\n",
       "      <td>0.000000</td>\n",
       "      <td>0.000000</td>\n",
       "    </tr>\n",
       "    <tr>\n",
       "      <th>2</th>\n",
       "      <td>0.000000</td>\n",
       "      <td>0.000000</td>\n",
       "      <td>0.0</td>\n",
       "      <td>0.0</td>\n",
       "      <td>0.000000</td>\n",
       "      <td>0.000000</td>\n",
       "      <td>0.000000</td>\n",
       "      <td>0.000000</td>\n",
       "      <td>0.000000</td>\n",
       "      <td>0.0</td>\n",
       "      <td>...</td>\n",
       "      <td>0.000000</td>\n",
       "      <td>0.0</td>\n",
       "      <td>0.00000</td>\n",
       "      <td>0.000000</td>\n",
       "      <td>0.000000</td>\n",
       "      <td>0.0</td>\n",
       "      <td>0.000000</td>\n",
       "      <td>0.0</td>\n",
       "      <td>0.000000</td>\n",
       "      <td>0.000000</td>\n",
       "    </tr>\n",
       "    <tr>\n",
       "      <th>3</th>\n",
       "      <td>0.000000</td>\n",
       "      <td>0.074307</td>\n",
       "      <td>0.0</td>\n",
       "      <td>0.0</td>\n",
       "      <td>0.000000</td>\n",
       "      <td>0.000000</td>\n",
       "      <td>0.000000</td>\n",
       "      <td>0.000000</td>\n",
       "      <td>0.163855</td>\n",
       "      <td>0.0</td>\n",
       "      <td>...</td>\n",
       "      <td>0.040221</td>\n",
       "      <td>0.0</td>\n",
       "      <td>0.04736</td>\n",
       "      <td>0.040514</td>\n",
       "      <td>0.073890</td>\n",
       "      <td>0.0</td>\n",
       "      <td>0.026851</td>\n",
       "      <td>0.0</td>\n",
       "      <td>0.047538</td>\n",
       "      <td>0.000000</td>\n",
       "    </tr>\n",
       "    <tr>\n",
       "      <th>4</th>\n",
       "      <td>0.032563</td>\n",
       "      <td>0.000000</td>\n",
       "      <td>0.0</td>\n",
       "      <td>0.0</td>\n",
       "      <td>0.000000</td>\n",
       "      <td>0.000000</td>\n",
       "      <td>0.000000</td>\n",
       "      <td>0.000000</td>\n",
       "      <td>0.000000</td>\n",
       "      <td>0.0</td>\n",
       "      <td>...</td>\n",
       "      <td>0.000000</td>\n",
       "      <td>0.0</td>\n",
       "      <td>0.00000</td>\n",
       "      <td>0.000000</td>\n",
       "      <td>0.031166</td>\n",
       "      <td>0.0</td>\n",
       "      <td>0.000000</td>\n",
       "      <td>0.0</td>\n",
       "      <td>0.000000</td>\n",
       "      <td>0.000000</td>\n",
       "    </tr>\n",
       "    <tr>\n",
       "      <th>...</th>\n",
       "      <td>...</td>\n",
       "      <td>...</td>\n",
       "      <td>...</td>\n",
       "      <td>...</td>\n",
       "      <td>...</td>\n",
       "      <td>...</td>\n",
       "      <td>...</td>\n",
       "      <td>...</td>\n",
       "      <td>...</td>\n",
       "      <td>...</td>\n",
       "      <td>...</td>\n",
       "      <td>...</td>\n",
       "      <td>...</td>\n",
       "      <td>...</td>\n",
       "      <td>...</td>\n",
       "      <td>...</td>\n",
       "      <td>...</td>\n",
       "      <td>...</td>\n",
       "      <td>...</td>\n",
       "      <td>...</td>\n",
       "      <td>...</td>\n",
       "    </tr>\n",
       "    <tr>\n",
       "      <th>6995</th>\n",
       "      <td>0.000000</td>\n",
       "      <td>0.000000</td>\n",
       "      <td>0.0</td>\n",
       "      <td>0.0</td>\n",
       "      <td>0.000000</td>\n",
       "      <td>0.000000</td>\n",
       "      <td>0.000000</td>\n",
       "      <td>0.000000</td>\n",
       "      <td>0.000000</td>\n",
       "      <td>0.0</td>\n",
       "      <td>...</td>\n",
       "      <td>0.000000</td>\n",
       "      <td>0.0</td>\n",
       "      <td>0.00000</td>\n",
       "      <td>0.000000</td>\n",
       "      <td>0.164526</td>\n",
       "      <td>0.0</td>\n",
       "      <td>0.044841</td>\n",
       "      <td>0.0</td>\n",
       "      <td>0.000000</td>\n",
       "      <td>0.000000</td>\n",
       "    </tr>\n",
       "    <tr>\n",
       "      <th>6996</th>\n",
       "      <td>0.000000</td>\n",
       "      <td>0.000000</td>\n",
       "      <td>0.0</td>\n",
       "      <td>0.0</td>\n",
       "      <td>0.000000</td>\n",
       "      <td>0.000000</td>\n",
       "      <td>0.173826</td>\n",
       "      <td>0.000000</td>\n",
       "      <td>0.000000</td>\n",
       "      <td>0.0</td>\n",
       "      <td>...</td>\n",
       "      <td>0.000000</td>\n",
       "      <td>0.0</td>\n",
       "      <td>0.00000</td>\n",
       "      <td>0.000000</td>\n",
       "      <td>0.000000</td>\n",
       "      <td>0.0</td>\n",
       "      <td>0.000000</td>\n",
       "      <td>0.0</td>\n",
       "      <td>0.000000</td>\n",
       "      <td>0.000000</td>\n",
       "    </tr>\n",
       "    <tr>\n",
       "      <th>6997</th>\n",
       "      <td>0.000000</td>\n",
       "      <td>0.000000</td>\n",
       "      <td>0.0</td>\n",
       "      <td>0.0</td>\n",
       "      <td>0.000000</td>\n",
       "      <td>0.000000</td>\n",
       "      <td>0.079163</td>\n",
       "      <td>0.000000</td>\n",
       "      <td>0.000000</td>\n",
       "      <td>0.0</td>\n",
       "      <td>...</td>\n",
       "      <td>0.065614</td>\n",
       "      <td>0.0</td>\n",
       "      <td>0.00000</td>\n",
       "      <td>0.000000</td>\n",
       "      <td>0.000000</td>\n",
       "      <td>0.0</td>\n",
       "      <td>0.043803</td>\n",
       "      <td>0.0</td>\n",
       "      <td>0.000000</td>\n",
       "      <td>0.075260</td>\n",
       "    </tr>\n",
       "    <tr>\n",
       "      <th>6998</th>\n",
       "      <td>0.000000</td>\n",
       "      <td>0.000000</td>\n",
       "      <td>0.0</td>\n",
       "      <td>0.0</td>\n",
       "      <td>0.000000</td>\n",
       "      <td>0.034216</td>\n",
       "      <td>0.000000</td>\n",
       "      <td>0.000000</td>\n",
       "      <td>0.000000</td>\n",
       "      <td>0.0</td>\n",
       "      <td>...</td>\n",
       "      <td>0.000000</td>\n",
       "      <td>0.0</td>\n",
       "      <td>0.00000</td>\n",
       "      <td>0.000000</td>\n",
       "      <td>0.019248</td>\n",
       "      <td>0.0</td>\n",
       "      <td>0.041968</td>\n",
       "      <td>0.0</td>\n",
       "      <td>0.000000</td>\n",
       "      <td>0.000000</td>\n",
       "    </tr>\n",
       "    <tr>\n",
       "      <th>6999</th>\n",
       "      <td>0.000000</td>\n",
       "      <td>0.044051</td>\n",
       "      <td>0.0</td>\n",
       "      <td>0.0</td>\n",
       "      <td>0.056387</td>\n",
       "      <td>0.000000</td>\n",
       "      <td>0.000000</td>\n",
       "      <td>0.000000</td>\n",
       "      <td>0.000000</td>\n",
       "      <td>0.0</td>\n",
       "      <td>...</td>\n",
       "      <td>0.000000</td>\n",
       "      <td>0.0</td>\n",
       "      <td>0.00000</td>\n",
       "      <td>0.000000</td>\n",
       "      <td>0.000000</td>\n",
       "      <td>0.0</td>\n",
       "      <td>0.063671</td>\n",
       "      <td>0.0</td>\n",
       "      <td>0.000000</td>\n",
       "      <td>0.000000</td>\n",
       "    </tr>\n",
       "  </tbody>\n",
       "</table>\n",
       "<p>7000 rows × 500 columns</p>\n",
       "</div>"
      ],
      "text/plain": [
       "          able  according  accused  across       act    action  actually  \\\n",
       "0     0.000000   0.043359      0.0     0.0  0.000000  0.000000  0.000000   \n",
       "1     0.000000   0.000000      0.0     0.0  0.000000  0.000000  0.000000   \n",
       "2     0.000000   0.000000      0.0     0.0  0.000000  0.000000  0.000000   \n",
       "3     0.000000   0.074307      0.0     0.0  0.000000  0.000000  0.000000   \n",
       "4     0.032563   0.000000      0.0     0.0  0.000000  0.000000  0.000000   \n",
       "...        ...        ...      ...     ...       ...       ...       ...   \n",
       "6995  0.000000   0.000000      0.0     0.0  0.000000  0.000000  0.000000   \n",
       "6996  0.000000   0.000000      0.0     0.0  0.000000  0.000000  0.173826   \n",
       "6997  0.000000   0.000000      0.0     0.0  0.000000  0.000000  0.079163   \n",
       "6998  0.000000   0.000000      0.0     0.0  0.000000  0.034216  0.000000   \n",
       "6999  0.000000   0.044051      0.0     0.0  0.056387  0.000000  0.000000   \n",
       "\n",
       "         added  administration  agency  ...      work  worker  working  \\\n",
       "0     0.000000        0.000000     0.0  ...  0.000000     0.0  0.05527   \n",
       "1     0.080474        0.070553     0.0  ...  0.000000     0.0  0.00000   \n",
       "2     0.000000        0.000000     0.0  ...  0.000000     0.0  0.00000   \n",
       "3     0.000000        0.163855     0.0  ...  0.040221     0.0  0.04736   \n",
       "4     0.000000        0.000000     0.0  ...  0.000000     0.0  0.00000   \n",
       "...        ...             ...     ...  ...       ...     ...      ...   \n",
       "6995  0.000000        0.000000     0.0  ...  0.000000     0.0  0.00000   \n",
       "6996  0.000000        0.000000     0.0  ...  0.000000     0.0  0.00000   \n",
       "6997  0.000000        0.000000     0.0  ...  0.065614     0.0  0.00000   \n",
       "6998  0.000000        0.000000     0.0  ...  0.000000     0.0  0.00000   \n",
       "6999  0.000000        0.000000     0.0  ...  0.000000     0.0  0.00000   \n",
       "\n",
       "         world     would  wrote      year  year old       yet      york  \n",
       "0     0.000000  0.000000    0.0  0.000000       0.0  0.000000  0.053839  \n",
       "1     0.000000  0.000000    0.0  0.046246       0.0  0.000000  0.000000  \n",
       "2     0.000000  0.000000    0.0  0.000000       0.0  0.000000  0.000000  \n",
       "3     0.040514  0.073890    0.0  0.026851       0.0  0.047538  0.000000  \n",
       "4     0.000000  0.031166    0.0  0.000000       0.0  0.000000  0.000000  \n",
       "...        ...       ...    ...       ...       ...       ...       ...  \n",
       "6995  0.000000  0.164526    0.0  0.044841       0.0  0.000000  0.000000  \n",
       "6996  0.000000  0.000000    0.0  0.000000       0.0  0.000000  0.000000  \n",
       "6997  0.000000  0.000000    0.0  0.043803       0.0  0.000000  0.075260  \n",
       "6998  0.000000  0.019248    0.0  0.041968       0.0  0.000000  0.000000  \n",
       "6999  0.000000  0.000000    0.0  0.063671       0.0  0.000000  0.000000  \n",
       "\n",
       "[7000 rows x 500 columns]"
      ]
     },
     "execution_count": 23,
     "metadata": {},
     "output_type": "execute_result"
    }
   ],
   "source": [
    "testing_data"
   ]
  },
  {
   "cell_type": "markdown",
   "id": "43d3dc2a",
   "metadata": {},
   "source": [
    "# model"
   ]
  },
  {
   "cell_type": "code",
   "execution_count": 24,
   "id": "58ae81e0",
   "metadata": {},
   "outputs": [],
   "source": [
    "from sklearn.naive_bayes import MultinomialNB"
   ]
  },
  {
   "cell_type": "code",
   "execution_count": 25,
   "id": "3be1f07e",
   "metadata": {},
   "outputs": [],
   "source": [
    "clf=MultinomialNB()"
   ]
  },
  {
   "cell_type": "code",
   "execution_count": 26,
   "id": "64209419",
   "metadata": {},
   "outputs": [
    {
     "data": {
      "text/html": [
       "<style>#sk-container-id-1 {color: black;background-color: white;}#sk-container-id-1 pre{padding: 0;}#sk-container-id-1 div.sk-toggleable {background-color: white;}#sk-container-id-1 label.sk-toggleable__label {cursor: pointer;display: block;width: 100%;margin-bottom: 0;padding: 0.3em;box-sizing: border-box;text-align: center;}#sk-container-id-1 label.sk-toggleable__label-arrow:before {content: \"▸\";float: left;margin-right: 0.25em;color: #696969;}#sk-container-id-1 label.sk-toggleable__label-arrow:hover:before {color: black;}#sk-container-id-1 div.sk-estimator:hover label.sk-toggleable__label-arrow:before {color: black;}#sk-container-id-1 div.sk-toggleable__content {max-height: 0;max-width: 0;overflow: hidden;text-align: left;background-color: #f0f8ff;}#sk-container-id-1 div.sk-toggleable__content pre {margin: 0.2em;color: black;border-radius: 0.25em;background-color: #f0f8ff;}#sk-container-id-1 input.sk-toggleable__control:checked~div.sk-toggleable__content {max-height: 200px;max-width: 100%;overflow: auto;}#sk-container-id-1 input.sk-toggleable__control:checked~label.sk-toggleable__label-arrow:before {content: \"▾\";}#sk-container-id-1 div.sk-estimator input.sk-toggleable__control:checked~label.sk-toggleable__label {background-color: #d4ebff;}#sk-container-id-1 div.sk-label input.sk-toggleable__control:checked~label.sk-toggleable__label {background-color: #d4ebff;}#sk-container-id-1 input.sk-hidden--visually {border: 0;clip: rect(1px 1px 1px 1px);clip: rect(1px, 1px, 1px, 1px);height: 1px;margin: -1px;overflow: hidden;padding: 0;position: absolute;width: 1px;}#sk-container-id-1 div.sk-estimator {font-family: monospace;background-color: #f0f8ff;border: 1px dotted black;border-radius: 0.25em;box-sizing: border-box;margin-bottom: 0.5em;}#sk-container-id-1 div.sk-estimator:hover {background-color: #d4ebff;}#sk-container-id-1 div.sk-parallel-item::after {content: \"\";width: 100%;border-bottom: 1px solid gray;flex-grow: 1;}#sk-container-id-1 div.sk-label:hover label.sk-toggleable__label {background-color: #d4ebff;}#sk-container-id-1 div.sk-serial::before {content: \"\";position: absolute;border-left: 1px solid gray;box-sizing: border-box;top: 0;bottom: 0;left: 50%;z-index: 0;}#sk-container-id-1 div.sk-serial {display: flex;flex-direction: column;align-items: center;background-color: white;padding-right: 0.2em;padding-left: 0.2em;position: relative;}#sk-container-id-1 div.sk-item {position: relative;z-index: 1;}#sk-container-id-1 div.sk-parallel {display: flex;align-items: stretch;justify-content: center;background-color: white;position: relative;}#sk-container-id-1 div.sk-item::before, #sk-container-id-1 div.sk-parallel-item::before {content: \"\";position: absolute;border-left: 1px solid gray;box-sizing: border-box;top: 0;bottom: 0;left: 50%;z-index: -1;}#sk-container-id-1 div.sk-parallel-item {display: flex;flex-direction: column;z-index: 1;position: relative;background-color: white;}#sk-container-id-1 div.sk-parallel-item:first-child::after {align-self: flex-end;width: 50%;}#sk-container-id-1 div.sk-parallel-item:last-child::after {align-self: flex-start;width: 50%;}#sk-container-id-1 div.sk-parallel-item:only-child::after {width: 0;}#sk-container-id-1 div.sk-dashed-wrapped {border: 1px dashed gray;margin: 0 0.4em 0.5em 0.4em;box-sizing: border-box;padding-bottom: 0.4em;background-color: white;}#sk-container-id-1 div.sk-label label {font-family: monospace;font-weight: bold;display: inline-block;line-height: 1.2em;}#sk-container-id-1 div.sk-label-container {text-align: center;}#sk-container-id-1 div.sk-container {/* jupyter's `normalize.less` sets `[hidden] { display: none; }` but bootstrap.min.css set `[hidden] { display: none !important; }` so we also need the `!important` here to be able to override the default hidden behavior on the sphinx rendered scikit-learn.org. See: https://github.com/scikit-learn/scikit-learn/issues/21755 */display: inline-block !important;position: relative;}#sk-container-id-1 div.sk-text-repr-fallback {display: none;}</style><div id=\"sk-container-id-1\" class=\"sk-top-container\"><div class=\"sk-text-repr-fallback\"><pre>MultinomialNB()</pre><b>In a Jupyter environment, please rerun this cell to show the HTML representation or trust the notebook. <br />On GitHub, the HTML representation is unable to render, please try loading this page with nbviewer.org.</b></div><div class=\"sk-container\" hidden><div class=\"sk-item\"><div class=\"sk-estimator sk-toggleable\"><input class=\"sk-toggleable__control sk-hidden--visually\" id=\"sk-estimator-id-1\" type=\"checkbox\" checked><label for=\"sk-estimator-id-1\" class=\"sk-toggleable__label sk-toggleable__label-arrow\">MultinomialNB</label><div class=\"sk-toggleable__content\"><pre>MultinomialNB()</pre></div></div></div></div></div>"
      ],
      "text/plain": [
       "MultinomialNB()"
      ]
     },
     "execution_count": 26,
     "metadata": {},
     "output_type": "execute_result"
    }
   ],
   "source": [
    "clf.fit(training_data,train_label)"
   ]
  },
  {
   "cell_type": "code",
   "execution_count": 27,
   "id": "b6f18a0f",
   "metadata": {},
   "outputs": [],
   "source": [
    "y_pred=clf.predict(testing_data)"
   ]
  },
  {
   "cell_type": "code",
   "execution_count": 28,
   "id": "2f12ee6a",
   "metadata": {},
   "outputs": [
    {
     "data": {
      "text/plain": [
       "10911    1\n",
       "7012     0\n",
       "19890    1\n",
       "4842     0\n",
       "8128     0\n",
       "        ..\n",
       "3975     1\n",
       "10092    1\n",
       "2910     1\n",
       "12236    0\n",
       "7246     1\n",
       "Name: label, Length: 7000, dtype: int64"
      ]
     },
     "execution_count": 28,
     "metadata": {},
     "output_type": "execute_result"
    }
   ],
   "source": [
    "test_label"
   ]
  },
  {
   "cell_type": "code",
   "execution_count": null,
   "id": "215ba2d1",
   "metadata": {},
   "outputs": [],
   "source": []
  },
  {
   "cell_type": "code",
   "execution_count": 29,
   "id": "21236c3a",
   "metadata": {},
   "outputs": [],
   "source": [
    "from sklearn.metrics import accuracy_score"
   ]
  },
  {
   "cell_type": "code",
   "execution_count": 30,
   "id": "6cfec632",
   "metadata": {},
   "outputs": [
    {
     "data": {
      "text/plain": [
       "0.6012857142857143"
      ]
     },
     "execution_count": 30,
     "metadata": {},
     "output_type": "execute_result"
    }
   ],
   "source": [
    "accuracy_score(test_label,y_pred)"
   ]
  },
  {
   "cell_type": "code",
   "execution_count": 31,
   "id": "51571001",
   "metadata": {},
   "outputs": [
    {
     "data": {
      "text/plain": [
       "0.9345357142857142"
      ]
     },
     "execution_count": 31,
     "metadata": {},
     "output_type": "execute_result"
    }
   ],
   "source": [
    "y_train_pred=clf.predict(training_data)\n",
    "accuracy_score(train_label,y_train_pred)"
   ]
  },
  {
   "cell_type": "markdown",
   "id": "722bc25a",
   "metadata": {},
   "source": [
    "# new Data"
   ]
  },
  {
   "cell_type": "code",
   "execution_count": 39,
   "id": "cf8a5505",
   "metadata": {},
   "outputs": [],
   "source": [
    "txt=\"The following statementsÂ were posted to the verified Twitter accounts of U.S. President Donald Trump, @realDonaldTrump and @POTUS.  The opinions expressed are his own.Â Reuters has not edited the statements or confirmed their accuracy.  @realDonaldTrump : - Based on the fact that the very unfair and unpopular Individual Mandate has been terminated as part of our Tax Cut Bill, which essentially Repeals (over time) ObamaCare, the Democrats & Republicans will eventually come together and develop a great new HealthCare plan! [0658 EST] - WOW, @foxandfrlends â€œDossier is bogus. Clinton Campaign, DNC funded Dossier. FBI CANNOT (after all of this time) VERIFY CLAIMS IN DOSSIER OF RUSSIA/TRUMP COLLUSION. FBI TAINTED.â€ And they used this Crooked Hillary pile of garbage as the basis for going after the Trump Campaign! [0824 EST] - All signs are that business is looking really good for next year, only to be helped further by our Tax Cut Bill. Will be a great year for Companies and JOBS! Stock Market is poised for another year of SUCCESS!\""
   ]
  },
  {
   "cell_type": "code",
   "execution_count": null,
   "id": "f9b96104",
   "metadata": {},
   "outputs": [],
   "source": []
  },
  {
   "cell_type": "code",
   "execution_count": 40,
   "id": "cfbd0b36",
   "metadata": {},
   "outputs": [],
   "source": [
    "news = clean_row(txt)\n"
   ]
  },
  {
   "cell_type": "code",
   "execution_count": 41,
   "id": "21da0590",
   "metadata": {},
   "outputs": [
    {
     "data": {
      "text/plain": [
       "'following statement posted verified twitter account u president donald trump realdonaldtrump potus opinion expressed reuters edited statement confirmed accuracy realdonaldtrump based fact unfair unpopular individual mandate terminated part tax cut bill essentially repeal time obamacare democrat republican eventually come together develop great new healthcare plan est wow foxandfrlends dossier bogus clinton campaign dnc funded dossier fbi cannot time verify claim dossier russia trump collusion fbi tainted used crooked hillary pile garbage basis going trump campaign est sign business looking really good next year helped tax cut bill great year company job stock market poised another year success'"
      ]
     },
     "execution_count": 41,
     "metadata": {},
     "output_type": "execute_result"
    }
   ],
   "source": [
    "news"
   ]
  },
  {
   "cell_type": "code",
   "execution_count": 42,
   "id": "f6b151ac",
   "metadata": {},
   "outputs": [
    {
     "name": "stderr",
     "output_type": "stream",
     "text": [
      "C:\\Users\\taran\\anaconda3\\Lib\\site-packages\\sklearn\\base.py:439: UserWarning: X does not have valid feature names, but MultinomialNB was fitted with feature names\n",
      "  warnings.warn(\n"
     ]
    }
   ],
   "source": [
    "pred=clf.predict(vectorizer.transform([news]).toarray())"
   ]
  },
  {
   "cell_type": "code",
   "execution_count": 43,
   "id": "bc777854",
   "metadata": {},
   "outputs": [
    {
     "data": {
      "text/plain": [
       "array([0], dtype=int64)"
      ]
     },
     "execution_count": 43,
     "metadata": {},
     "output_type": "execute_result"
    }
   ],
   "source": [
    "pred\n"
   ]
  },
  {
   "cell_type": "code",
   "execution_count": 44,
   "id": "afb98765",
   "metadata": {},
   "outputs": [
    {
     "name": "stdout",
     "output_type": "stream",
     "text": [
      "News Is True\n"
     ]
    }
   ],
   "source": [
    "if pred==0:\n",
    "    print(\"News Is True\")\n",
    "else:\n",
    "    print(\"News Is Fake\")"
   ]
  },
  {
   "cell_type": "code",
   "execution_count": null,
   "id": "dcdda5f6",
   "metadata": {},
   "outputs": [],
   "source": []
  }
 ],
 "metadata": {
  "kernelspec": {
   "display_name": "Python 3 (ipykernel)",
   "language": "python",
   "name": "python3"
  },
  "language_info": {
   "codemirror_mode": {
    "name": "ipython",
    "version": 3
   },
   "file_extension": ".py",
   "mimetype": "text/x-python",
   "name": "python",
   "nbconvert_exporter": "python",
   "pygments_lexer": "ipython3",
   "version": "3.11.3"
  }
 },
 "nbformat": 4,
 "nbformat_minor": 5
}
